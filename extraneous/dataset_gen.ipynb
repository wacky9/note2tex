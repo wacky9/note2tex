{
 "cells": [
  {
   "cell_type": "code",
   "execution_count": 103,
   "metadata": {},
   "outputs": [],
   "source": [
    "import os\n",
    "import numpy as np\n",
    "from PIL import Image, ImageDraw, ImageFont"
   ]
  },
  {
   "cell_type": "code",
   "execution_count": 104,
   "metadata": {},
   "outputs": [],
   "source": [
    "# standard image size\n",
    "IMG_SIZE = (32,32)\n",
    "\n",
    "# dictionary of 'label' : 'character' for all possible chars\n",
    "CHARS = {'dot':'.','divide':'/', 'asterisk':'*', 'plus':'+', 'minus':'-', 'equal':'=', 'zero':'0', 'one':'1', 'two':'2', 'three':'3', 'four':'4', 'five':'5', 'six':'6', 'seven':'7', 'eight':'8', 'nine':'9', 'comma':',', 'colon':':', 'double_quotes':'\"', \"single_quote\":\"'\"}\n",
    "\n",
    "for i in list('ABCDEFGHIJKLMNPQRSTUVWXYZabcdefghijklmnpqrstuvwxyz'):        # exclude upper and lowerase 'o', only '0' is used.\n",
    "    CHARS[i]=i\n",
    "\n",
    "# list of fonts to use\n",
    "FONTS = ['NewYorkSmall-Heavy.otf', 'NewYorkLarge-HeavyItalic.otf', 'SF-Mono-Heavy.otf', 'SF-Pro-Display-Regular.otf', 'SF-Pro-Display-UltralightItalic.otf', 'NewYorkMedium-BlackItalic.otf', 'SF-Pro-Text-Semibold.otf', 'SF-Pro-Display-Heavy.otf', 'SF-Pro-Rounded-Ultralight.otf', 'SF-Pro-Rounded-Black.otf', 'NewYorkExtraLarge-Regular.otf', 'NewYorkLarge-Black.otf', 'SF-Pro-Italic.ttf', 'NewYorkSmall-RegularItalic.otf', 'SF-Pro-Display-Thin.otf', 'SF-Pro-Text-Heavy.otf', 'SF-Compact-Text-LightItalic.otf', 'NewYorkSmall-HeavyItalic.otf', 'SF-Compact-Text-Ultralight.otf', 'NewYorkExtraLarge-Bold.otf', 'NewYorkExtraLarge-MediumItalic.otf', 'SF-Compact-Text-Semibold.otf', 'SF-Mono-HeavyItalic.otf', 'SF-Compact-Text-RegularItalic.otf', 'NewYorkSmall-Bold.otf', 'SF-Compact-Text-SemiboldItalic.otf', 'SF-Pro-Display-SemiboldItalic.otf', 'SF-Compact-Display-Black.otf', 'SF-Compact-Text-Black.otf', 'SF-Mono-MediumItalic.otf', 'NewYorkMedium-Medium.otf', 'NewYorkExtraLarge-Black.otf', 'SF-Compact-Text-Light.otf', 'SF-Pro-Display-Light.otf', 'SF-Pro-Text-RegularItalic.otf', 'SF-Pro.ttf', 'SF-Compact-Display-Light.otf', 'SF-Compact-Display-Medium.otf', 'SF-Mono-Medium.otf', 'NewYorkLarge-Regular.otf', 'NewYorkMedium-MediumItalic.otf', 'SF-Compact-Display-Ultralight.otf', 'SF-Compact-Text-Heavy.otf', 'SF-Pro-Display-Medium.otf', 'SF-Compact-Text-ThinItalic.otf', 'SF-Compact-Rounded-Semibold.otf', 'NewYorkLarge-Bold.otf', 'SF-Compact-Rounded-Ultralight.otf', 'SF-Pro-Display-RegularItalic.otf', 'SF-Compact-Rounded-Black.otf', 'SF-Compact-Rounded-Heavy.otf', 'NewYorkSmall-Regular.otf', 'SF-Compact-Text-Regular.otf', 'NewYorkSmall-MediumItalic.otf', 'SF-Compact-Display-Regular.otf', 'NewYorkSmall-BlackItalic.otf', 'NewYorkLarge-MediumItalic.otf', 'SF-Pro-Display-MediumItalic.otf', 'SF-Pro-Text-BlackItalic.otf', 'NewYorkMedium-Regular.otf', 'Arial Unicode.ttf', 'NewYorkMedium-SemiboldItalic.otf', 'SF-Compact-Rounded-Regular.otf', 'SF-Compact-Text-MediumItalic.otf', 'NewYorkExtraLarge-HeavyItalic.otf', 'SF-Compact-Rounded-Bold.otf', 'SF-Compact-Display-Thin.otf', 'SF-Pro-Text-Black.otf', 'SF-Pro-Rounded-Heavy.otf', 'SF-Compact.ttf', 'NewYorkLarge-Semibold.otf', 'NewYorkMedium-RegularItalic.otf', 'NewYorkExtraLarge-BoldItalic.otf', 'SF-Pro-Display-Semibold.otf', 'SF-Pro-Display-BoldItalic.otf', 'SF-Mono-Semibold.otf', 'NewYorkLarge-Medium.otf', 'NewYorkMedium-Bold.otf', 'NewYorkLarge-RegularItalic.otf', 'NewYorkExtraLarge-Medium.otf', 'SF-Compact-Text-Thin.otf', 'SF-Pro-Rounded-Light.otf', 'NewYorkMedium-Semibold.otf', 'SF-Mono-LightItalic.otf', 'SF-Compact-Italic.ttf', 'SF-Mono-Bold.otf', 'NewYorkSmall-SemiboldItalic.otf', 'SF-Pro-Display-ThinItalic.otf', 'SF-Pro-Rounded-Thin.otf', 'SF-Pro-Text-Thin.otf', 'NewYorkMedium-Black.otf', 'NewYorkMedium-HeavyItalic.otf', 'SF-Mono-Light.otf', 'SF-Pro-Display-LightItalic.otf', 'SF-Compact-Text-BoldItalic.otf', 'SF-Pro-Rounded-Semibold.otf', 'SF-Pro-Text-SemiboldItalic.otf', 'SF-Compact-Text-Bold.otf', 'SF-Compact-Display-Bold.otf', 'SF-Pro-Text-Light.otf', 'NewYorkSmall-BoldItalic.otf', 'SF-Pro-Rounded-Bold.otf', 'SF-Compact-Rounded-Light.otf', 'SF-Pro-Text-UltralightItalic.otf', 'SF-Pro-Display-HeavyItalic.otf', 'SF-Compact-Rounded-Medium.otf', 'NewYorkExtraLarge-SemiboldItalic.otf', 'NewYorkExtraLarge-BlackItalic.otf', 'NewYorkLarge-Heavy.otf', 'NewYorkSmall-Black.otf', 'NewYorkLarge-BoldItalic.otf', 'SF-Mono-Regular.otf', 'SF-Compact-Display-Semibold.otf', 'SF-Pro-Rounded-Regular.otf', 'NewYorkMedium-BoldItalic.otf', 'SF-Pro-Text-HeavyItalic.otf', 'SF-Pro-Text-Regular.otf', 'SF-Pro-Text-MediumItalic.otf', 'SF-Mono-SemiboldItalic.otf', 'SF-Compact-Text-BlackItalic.otf', 'SF-Pro-Text-BoldItalic.otf', 'SF-Compact-Rounded-Thin.otf', 'NewYorkSmall-Medium.otf', 'SF-Pro-Display-Black.otf', 'SF-Pro-Text-ThinItalic.otf', 'NewYorkItalic.ttf', 'SF-Compact-Display-Heavy.otf', 'NewYorkExtraLarge-RegularItalic.otf', 'SF-Pro-Display-Ultralight.otf', 'NewYorkSmall-Semibold.otf', 'SF-Pro-Text-LightItalic.otf', 'NewYorkMedium-Heavy.otf', 'NewYork.ttf', 'NewYorkExtraLarge-Semibold.otf', 'SF-Compact-Text-UltralightItalic.otf', 'SF-Compact-Text-HeavyItalic.otf', 'SF-Pro-Text-Ultralight.otf', 'NewYorkLarge-SemiboldItalic.otf', 'SF-Pro-Text-Bold.otf', 'SF-Compact-Text-Medium.otf', 'SF-Pro-Display-BlackItalic.otf', 'SF-Pro-Rounded-Medium.otf', 'SF-Pro-Text-Medium.otf', 'NewYorkExtraLarge-Heavy.otf', 'SF-Mono-BoldItalic.otf', 'NewYorkLarge-BlackItalic.otf', 'SF-Pro-Display-Bold.otf', 'SF-Mono-RegularItalic.otf']\n",
    "\n",
    "VERT_OFFSET = 3\n",
    "HORIZ_OFFSET = 0"
   ]
  },
  {
   "cell_type": "code",
   "execution_count": 105,
   "metadata": {},
   "outputs": [
    {
     "name": "stdout",
     "output_type": "stream",
     "text": [
      "['dot', 'divide', 'asterisk', 'plus', 'minus', 'equal', 'zero', 'one', 'two', 'three', 'four', 'five', 'six', 'seven', 'eight', 'nine', 'comma', 'colon', 'double_quotes', 'single_quote', 'A', 'B', 'C', 'D', 'E', 'F', 'G', 'H', 'I', 'J', 'K', 'L', 'M', 'N', 'P', 'Q', 'R', 'S', 'T', 'U', 'V', 'W', 'X', 'Y', 'Z', 'a', 'b', 'c', 'd', 'e', 'f', 'g', 'h', 'i', 'j', 'k', 'l', 'm', 'n', 'p', 'q', 'r', 's', 't', 'u', 'v', 'w', 'x', 'y', 'z']\n"
     ]
    }
   ],
   "source": [
    "def get_label_list():\n",
    "    return [x[0] for x in CHARS.items()]\n",
    "print(get_label_list())"
   ]
  },
  {
   "cell_type": "code",
   "execution_count": 106,
   "metadata": {},
   "outputs": [
    {
     "name": "stdout",
     "output_type": "stream",
     "text": [
      "['NewYorkSmall-Heavy.otf', 'SF-Mono-Heavy.otf', 'NewYorkLarge-HeavyItalic.otf', 'SF-Pro-Display-UltralightItalic.otf', 'SF-Pro-Display-Regular.otf', 'NewYorkMedium-BlackItalic.otf', 'SF-Pro-Text-Semibold.otf', 'SF-Pro-Display-Heavy.otf', 'SF-Pro-Rounded-Ultralight.otf', 'SF-Pro-Rounded-Black.otf', 'NewYorkExtraLarge-Regular.otf', 'NewYorkLarge-Black.otf', 'SF-Pro-Italic.ttf', 'NewYorkSmall-RegularItalic.otf', 'SF-Pro-Display-Thin.otf', 'SF-Pro-Text-Heavy.otf', 'SF-Compact-Text-LightItalic.otf', 'NewYorkSmall-HeavyItalic.otf', 'SF-Compact-Text-Ultralight.otf', 'NewYorkExtraLarge-Bold.otf', 'NewYorkExtraLarge-MediumItalic.otf', 'SF-Compact-Text-Semibold.otf', 'SF-Mono-HeavyItalic.otf', 'SF-Compact-Text-RegularItalic.otf', 'NewYorkSmall-Bold.otf', 'SF-Compact-Text-SemiboldItalic.otf', 'SF-Pro-Display-SemiboldItalic.otf', 'SF-Compact-Display-Black.otf', 'SF-Compact-Text-Black.otf', 'SF-Mono-MediumItalic.otf', 'NewYorkMedium-Medium.otf', 'NewYorkExtraLarge-Black.otf', 'SF-Compact-Text-Light.otf', 'SF-Pro-Display-Light.otf', 'SF-Pro-Text-RegularItalic.otf', 'SF-Pro.ttf', 'SF-Compact-Display-Light.otf', 'SF-Mono-Medium.otf', 'SF-Compact-Display-Medium.otf', 'NewYorkLarge-Regular.otf', 'NewYorkMedium-MediumItalic.otf', 'SF-Compact-Display-Ultralight.otf', 'SF-Compact-Text-Heavy.otf', 'SF-Pro-Display-Medium.otf', 'SF-Compact-Text-ThinItalic.otf', 'SF-Compact-Rounded-Semibold.otf', 'NewYorkLarge-Bold.otf', 'SF-Compact-Rounded-Ultralight.otf', 'SF-Pro-Display-RegularItalic.otf', 'SF-Compact-Rounded-Black.otf', 'SF-Compact-Rounded-Heavy.otf', 'NewYorkSmall-Regular.otf', 'SF-Compact-Text-Regular.otf', 'NewYorkSmall-MediumItalic.otf', 'SF-Compact-Display-Regular.otf', 'NewYorkSmall-BlackItalic.otf', 'NewYorkLarge-MediumItalic.otf', 'SF-Pro-Display-MediumItalic.otf', 'SF-Pro-Text-BlackItalic.otf', 'NewYorkMedium-Regular.otf', 'Arial Unicode.ttf', 'NewYorkMedium-SemiboldItalic.otf', 'SF-Compact-Rounded-Regular.otf', 'SF-Compact-Text-MediumItalic.otf', 'NewYorkExtraLarge-HeavyItalic.otf', 'SF-Compact-Rounded-Bold.otf', 'SF-Compact-Display-Thin.otf', 'SF-Pro-Text-Black.otf', 'SF-Pro-Rounded-Heavy.otf', 'SF-Compact.ttf', 'NewYorkLarge-Semibold.otf', 'NewYorkMedium-RegularItalic.otf', 'NewYorkExtraLarge-BoldItalic.otf', 'SF-Pro-Display-Semibold.otf', 'SF-Pro-Display-BoldItalic.otf', 'SF-Mono-Semibold.otf', 'NewYorkLarge-Medium.otf', 'NewYorkMedium-Bold.otf', 'NewYorkLarge-RegularItalic.otf', 'NewYorkExtraLarge-Medium.otf', 'SF-Pro-Rounded-Light.otf', 'NewYorkMedium-Semibold.otf', 'SF-Mono-LightItalic.otf', 'SF-Compact-Italic.ttf', 'SF-Mono-Bold.otf', 'NewYorkSmall-SemiboldItalic.otf', 'SF-Pro-Display-ThinItalic.otf', 'SF-Pro-Rounded-Thin.otf', 'SF-Pro-Text-Thin.otf', 'NewYorkMedium-Black.otf', 'NewYorkMedium-HeavyItalic.otf', 'SF-Mono-Light.otf', 'SF-Pro-Display-LightItalic.otf', 'SF-Compact-Text-BoldItalic.otf', 'SF-Pro-Rounded-Semibold.otf', 'SF-Pro-Text-SemiboldItalic.otf', 'SF-Compact-Text-Bold.otf', 'SF-Compact-Display-Bold.otf', 'SF-Pro-Text-Light.otf', 'NewYorkSmall-BoldItalic.otf', 'SF-Pro-Rounded-Bold.otf', 'SF-Compact-Rounded-Light.otf', 'SF-Pro-Text-UltralightItalic.otf', 'SF-Pro-Display-HeavyItalic.otf', 'SF-Compact-Rounded-Medium.otf', 'NewYorkExtraLarge-SemiboldItalic.otf', 'NewYorkExtraLarge-BlackItalic.otf', 'NewYorkLarge-Heavy.otf', 'NewYorkSmall-Black.otf', 'NewYorkLarge-BoldItalic.otf', 'SF-Mono-Regular.otf', 'SF-Compact-Display-Semibold.otf', 'SF-Pro-Rounded-Regular.otf', 'NewYorkMedium-BoldItalic.otf', 'SF-Pro-Text-HeavyItalic.otf', 'SF-Pro-Text-Regular.otf', 'SF-Pro-Text-MediumItalic.otf', 'SF-Mono-SemiboldItalic.otf', 'SF-Compact-Text-BlackItalic.otf', 'SF-Pro-Text-BoldItalic.otf', 'SF-Compact-Rounded-Thin.otf', 'NewYorkSmall-Medium.otf', 'SF-Pro-Display-Black.otf', 'SF-Pro-Text-ThinItalic.otf', 'NewYorkItalic.ttf', 'SF-Compact-Display-Heavy.otf', 'NewYorkExtraLarge-RegularItalic.otf', 'SF-Pro-Display-Ultralight.otf', 'NewYorkSmall-Semibold.otf', 'SF-Pro-Text-LightItalic.otf', 'NewYorkMedium-Heavy.otf', 'NewYork.ttf', 'NewYorkExtraLarge-Semibold.otf', 'SF-Compact-Text-UltralightItalic.otf', 'SF-Compact-Text-HeavyItalic.otf', 'SF-Pro-Text-Ultralight.otf', 'NewYorkLarge-SemiboldItalic.otf', 'SF-Pro-Text-Bold.otf', 'SF-Compact-Text-Medium.otf', 'SF-Pro-Display-BlackItalic.otf', 'SF-Pro-Rounded-Medium.otf', 'SF-Pro-Text-Medium.otf', 'NewYorkExtraLarge-Heavy.otf', 'SF-Mono-BoldItalic.otf', 'NewYorkLarge-BlackItalic.otf', 'SF-Pro-Display-Bold.otf', 'SF-Compact-Text-Thin.otf', 'SF-Mono-RegularItalic.otf']\n",
      "148\n"
     ]
    }
   ],
   "source": [
    "def print_cleaned_fonts(FONTS):\n",
    "    font_list = []\n",
    "    # print(len(FONTS))\n",
    "    FONTS = list(set(FONTS))\n",
    "    # print(len(FONTS))\n",
    "    for font_name in FONTS:\n",
    "        try:\n",
    "            font_name = font_name if font_name.count('.') > 0 else font_name+'.otf'\n",
    "            font = ImageFont.truetype(f'{font_name}', 5)\n",
    "            font_list.append(font_name)\n",
    "        except:\n",
    "            pass\n",
    "    print(font_list)\n",
    "    print(len(font_list))\n",
    "# print(FONTS)\n",
    "print_cleaned_fonts(FONTS)"
   ]
  },
  {
   "cell_type": "code",
   "execution_count": 107,
   "metadata": {},
   "outputs": [],
   "source": [
    "def generate_character_image(character, font_name, font_size=30):\n",
    "    # Create a blank image with white background\n",
    "    image = Image.new(\"L\", IMG_SIZE, \"white\")\n",
    "    draw = ImageDraw.Draw(image)\n",
    "    \n",
    "    # Load the specified font\n",
    "    # font = ImageFont.truetype(f'{font_name}.ttf', font_size)\n",
    "    font_name = font_name if font_name.count('.') > 0 else font_name+'.otf'\n",
    "    font = ImageFont.truetype(f'{font_name}', font_size)\n",
    "    \n",
    "    # Calculate text size and position\n",
    "    _,_,w,h = draw.textbbox((0,0),text=character, font=font)\n",
    "    position = ((IMG_SIZE[0] - w) // 2 - HORIZ_OFFSET, (IMG_SIZE[1] - h) // 2 - VERT_OFFSET)\n",
    "    # print(f'width: {w}, height: {h}, position: {position}')\n",
    "    \n",
    "    # Draw the character onto the image\n",
    "    draw.text(position, character, fill=\"black\", font=font)\n",
    "    \n",
    "    return image"
   ]
  },
  {
   "cell_type": "code",
   "execution_count": 108,
   "metadata": {},
   "outputs": [],
   "source": [
    "def downscale(image):\n",
    "    # Convert the image to grayscale\n",
    "    image = image.convert(\"L\")\n",
    "    \n",
    "    # Convert the image to a numpy array\n",
    "    image_array = np.array(image)\n",
    "    \n",
    "    # Find the bounding box of the black character\n",
    "    non_zero_pixels = np.nonzero(image_array)\n",
    "    min_x = np.min(non_zero_pixels[1])\n",
    "    max_x = np.max(non_zero_pixels[1])\n",
    "    min_y = np.min(non_zero_pixels[0])\n",
    "    max_y = np.max(non_zero_pixels[0])\n",
    "    \n",
    "    # Calculate the width and height of the bounding box\n",
    "    width = max_x - min_x + 1\n",
    "    height = max_y - min_y + 1\n",
    "    \n",
    "    # Calculate the scale factor to fit the bounding box into a 32x32 square\n",
    "    scale_factor = min(32 / width, 32 / height)\n",
    "    \n",
    "    # Calculate the new width and height after scaling\n",
    "    new_width = int(width * scale_factor)\n",
    "    new_height = int(height * scale_factor)\n",
    "    \n",
    "    # Resize the image using the calculated width and height\n",
    "    resized_image = image.resize((new_width, new_height), Image.Resampling.LANCZOS)\n",
    "    \n",
    "    # Create a new blank image with a 32x32 size\n",
    "    downscaled_image = Image.new(\"L\", (32, 32), \"white\")\n",
    "    \n",
    "    # Calculate the position to paste the resized image in the center of the blank image\n",
    "    paste_position = ((32 - new_width) // 2, (32 - new_height) // 2)\n",
    "    \n",
    "    # Paste the resized image onto the blank image\n",
    "    downscaled_image.paste(resized_image, paste_position)\n",
    "    \n",
    "    return downscaled_image\n",
    "    "
   ]
  },
  {
   "cell_type": "code",
   "execution_count": 109,
   "metadata": {},
   "outputs": [],
   "source": [
    "def gen_and_save(character, name, folder, font):\n",
    "    # Generate the image\n",
    "    image = generate_character_image(character, font)\n",
    "    image = downscale(image)\n",
    "    # Save the image\n",
    "    image.save(f'{folder}/{font.split(\".\")[0]}.png')"
   ]
  },
  {
   "cell_type": "code",
   "execution_count": 110,
   "metadata": {},
   "outputs": [],
   "source": [
    "def handle_char(char, name, folder):\n",
    "    if name.isupper():\n",
    "        name='_'+name\n",
    "    folder=f'{folder}/{name}'\n",
    "    if not os.path.exists(folder):\n",
    "        os.makedirs(folder)\n",
    "    for font in FONTS:\n",
    "        gen_and_save(char, name, folder, font)"
   ]
  },
  {
   "cell_type": "code",
   "execution_count": 111,
   "metadata": {},
   "outputs": [
    {
     "name": "stdout",
     "output_type": "stream",
     "text": [
      "NUM_LABELS = 70\n"
     ]
    }
   ],
   "source": [
    "IMG_SIZE = (IMG_SIZE[0]+30, IMG_SIZE[1]+30)\n",
    "\n",
    "folder='dataset'\n",
    "if not os.path.exists(folder):\n",
    "    os.makedirs(folder)\n",
    "print(f'NUM_LABELS = {len(CHARS)}')\n",
    "\n",
    "for name, char in CHARS.items():\n",
    "    handle_char(char=char, name=name, folder=folder)"
   ]
  }
 ],
 "metadata": {
  "kernelspec": {
   "display_name": "Python 3",
   "language": "python",
   "name": "python3"
  },
  "language_info": {
   "codemirror_mode": {
    "name": "ipython",
    "version": 3
   },
   "file_extension": ".py",
   "mimetype": "text/x-python",
   "name": "python",
   "nbconvert_exporter": "python",
   "pygments_lexer": "ipython3",
   "version": "3.9.6"
  }
 },
 "nbformat": 4,
 "nbformat_minor": 2
}
