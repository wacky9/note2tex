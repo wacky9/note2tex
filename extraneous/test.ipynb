{
 "cells": [
  {
   "cell_type": "code",
   "execution_count": 1,
   "metadata": {},
   "outputs": [
    {
     "name": "stderr",
     "output_type": "stream",
     "text": [
      "/Users/ram/Library/Python/3.9/lib/python/site-packages/urllib3/__init__.py:34: NotOpenSSLWarning: urllib3 v2.0 only supports OpenSSL 1.1.1+, currently the 'ssl' module is compiled with 'LibreSSL 2.8.3'. See: https://github.com/urllib3/urllib3/issues/3020\n",
      "  warnings.warn(\n"
     ]
    }
   ],
   "source": [
    "from recognition import *"
   ]
  },
  {
   "cell_type": "code",
   "execution_count": 2,
   "metadata": {},
   "outputs": [
    {
     "name": "stderr",
     "output_type": "stream",
     "text": [
      "2024-02-17 22:56:21.911497: I metal_plugin/src/device/metal_device.cc:1154] Metal device set to: Apple M3 Max\n",
      "2024-02-17 22:56:21.911536: I metal_plugin/src/device/metal_device.cc:296] systemMemory: 36.00 GB\n",
      "2024-02-17 22:56:21.911542: I metal_plugin/src/device/metal_device.cc:313] maxCacheSize: 13.50 GB\n",
      "2024-02-17 22:56:21.911594: I tensorflow/core/common_runtime/pluggable_device/pluggable_device_factory.cc:306] Could not identify NUMA node of platform GPU ID 0, defaulting to 0. Your kernel may not have been built with NUMA support.\n",
      "2024-02-17 22:56:21.911620: I tensorflow/core/common_runtime/pluggable_device/pluggable_device_factory.cc:272] Created TensorFlow device (/job:localhost/replica:0/task:0/device:GPU:0 with 0 MB memory) -> physical PluggableDevice (device: 0, name: METAL, pci bus id: <undefined>)\n"
     ]
    },
    {
     "name": "stdout",
     "output_type": "stream",
     "text": [
      "ensemble loaded\n",
      "[<keras.src.engine.sequential.Sequential object at 0x2f657f640>, <keras.src.engine.sequential.Sequential object at 0x3019cbdc0>, <keras.src.engine.sequential.Sequential object at 0x302daa250>]\n"
     ]
    }
   ],
   "source": [
    "ensemble = init_cnn_from_files()\n",
    "ensemble\n",
    "print(\"ensemble loaded\")\n",
    "print(ensemble)"
   ]
  },
  {
   "cell_type": "code",
   "execution_count": 3,
   "metadata": {},
   "outputs": [],
   "source": [
    "from skimage import io"
   ]
  },
  {
   "cell_type": "code",
   "execution_count": 4,
   "metadata": {},
   "outputs": [],
   "source": [
    "labels = get_label_list()"
   ]
  },
  {
   "cell_type": "code",
   "execution_count": 14,
   "metadata": {},
   "outputs": [
    {
     "data": {
      "text/plain": [
       "<matplotlib.image.AxesImage at 0x2f7d64430>"
      ]
     },
     "execution_count": 14,
     "metadata": {},
     "output_type": "execute_result"
    },
    {
     "data": {
      "image/png": "[encoded data removed]",
      "text/plain": [
       "<Figure size 640x480 with 1 Axes>"
      ]
     },
     "metadata": {},
     "output_type": "display_data"
    }
   ],
   "source": [
    "img = io.imread('test/A.png')\n",
    "io.imshow(img)"
   ]
  },
  {
   "cell_type": "code",
   "execution_count": 6,
   "metadata": {},
   "outputs": [
    {
     "name": "stdout",
     "output_type": "stream",
     "text": [
      "range of frame is  255 0\n",
      "NEW range of frame is  1.0 0.0\n",
      "1/1 [==============================] - 0s 159ms/step\n",
      "mod.predict(frame) is (1, 70)\n",
      "mod.predict(frame) is [[0.01443941 0.01431887 0.01364886 0.0136567  0.01562845 0.0155483\n",
      "  0.01426952 0.01311624 0.0138376  0.0156161  0.01498315 0.0148443\n",
      "  0.01317162 0.01462111 0.01371644 0.01204829 0.01214935 0.01474068\n",
      "  0.01370769 0.01324021 0.01515922 0.01353701 0.01188149 0.01393198\n",
      "  0.01448315 0.01271357 0.01506212 0.01276444 0.01422163 0.01616564\n",
      "  0.01459499 0.01278406 0.01507601 0.01437174 0.01632622 0.01458908\n",
      "  0.01450467 0.01657528 0.01437187 0.01528612 0.01339578 0.01403334\n",
      "  0.01350002 0.01434038 0.01410282 0.01235451 0.01375249 0.01460069\n",
      "  0.01786538 0.01363468 0.01357053 0.01478769 0.01427891 0.01561551\n",
      "  0.01298146 0.01485067 0.0147775  0.01532677 0.01545811 0.01463691\n",
      "  0.01275962 0.01411452 0.01462403 0.0143994  0.01549224 0.01380103\n",
      "  0.01457143 0.01318988 0.0153821  0.01409841]]\n",
      "found argmax to be  [48]\n"
     ]
    },
    {
     "name": "stderr",
     "output_type": "stream",
     "text": [
      "2024-02-17 22:56:23.125221: I tensorflow/core/grappler/optimizers/custom_graph_optimizer_registry.cc:117] Plugin optimizer for device_type GPU is enabled.\n"
     ]
    },
    {
     "name": "stdout",
     "output_type": "stream",
     "text": [
      "1/1 [==============================] - 0s 106ms/step\n",
      "mod.predict(frame) is (1, 70)\n",
      "mod.predict(frame) is [[0.01539224 0.01492037 0.01387866 0.01526403 0.01468866 0.01415371\n",
      "  0.01375515 0.01345295 0.01380582 0.01410783 0.01434903 0.01417746\n",
      "  0.01387838 0.01294188 0.01452301 0.01504727 0.01459436 0.01380375\n",
      "  0.01389675 0.01413701 0.01386485 0.01466738 0.01376633 0.01479847\n",
      "  0.01363256 0.01337011 0.01404102 0.01429032 0.01388487 0.0142332\n",
      "  0.01416687 0.01367606 0.01492091 0.01533818 0.0149995  0.01406694\n",
      "  0.01368031 0.01395084 0.0152041  0.01396007 0.01435017 0.0140947\n",
      "  0.01436175 0.01431931 0.0129896  0.01450054 0.0148006  0.01447105\n",
      "  0.014076   0.01422923 0.01472759 0.01367635 0.01437328 0.0143318\n",
      "  0.01508994 0.01408983 0.01528331 0.01405549 0.01490917 0.01338808\n",
      "  0.01441246 0.01388941 0.01397433 0.01458405 0.01471755 0.01497096\n",
      "  0.01506573 0.01387545 0.0141983  0.01491269]]\n",
      "found argmax to be  [0]\n",
      "1/1 [==============================] - 0s 111ms/step\n",
      "mod.predict(frame) is (1, 70)\n",
      "mod.predict(frame) is [[0.01412877 0.01493672 0.01404815 0.0141628  0.01455574 0.01448402\n",
      "  0.01429789 0.01442084 0.01411052 0.01446717 0.01433728 0.01445\n",
      "  0.01459856 0.01437796 0.01382383 0.01442571 0.01405333 0.01424928\n",
      "  0.01457536 0.01438997 0.01469333 0.01425644 0.01407886 0.014612\n",
      "  0.01426133 0.01435902 0.01417312 0.01470121 0.01412879 0.01416198\n",
      "  0.01429433 0.01436158 0.01425197 0.01397455 0.01442273 0.01418091\n",
      "  0.01434237 0.01425049 0.01398416 0.01453294 0.01399108 0.01450236\n",
      "  0.01412319 0.01393907 0.01398245 0.01396004 0.0143543  0.01442503\n",
      "  0.01403868 0.01399084 0.01429988 0.0139468  0.01422129 0.01442019\n",
      "  0.01398409 0.01469254 0.01414053 0.01441122 0.01391431 0.01461302\n",
      "  0.01454461 0.01473647 0.01431624 0.01460669 0.01428322 0.01428182\n",
      "  0.01398255 0.01386106 0.01413368 0.01438671]]\n",
      "found argmax to be  [1]\n",
      "[[48]\n",
      " [ 0]\n",
      " [ 1]]\n",
      "shape of ans is (3, 1)\n"
     ]
    },
    {
     "data": {
      "text/plain": [
       "('A', 0.014439414)"
      ]
     },
     "execution_count": 6,
     "metadata": {},
     "output_type": "execute_result"
    }
   ],
   "source": [
    "predict_ensemble_label(img, ensemble, labels)"
   ]
  },
  {
   "cell_type": "code",
   "execution_count": 15,
   "metadata": {},
   "outputs": [
    {
     "data": {
      "text/plain": [
       "('A', 0.9795709848403931)"
      ]
     },
     "execution_count": 15,
     "metadata": {},
     "output_type": "execute_result"
    }
   ],
   "source": [
    "labels = get_label_list()\n",
    "torchmod = init_model()\n",
    "predict_label(img, torchmod, labels)"
   ]
  }
 ],
 "metadata": {
  "kernelspec": {
   "display_name": "Python 3",
   "language": "python",
   "name": "python3"
  },
  "language_info": {
   "codemirror_mode": {
    "name": "ipython",
    "version": 3
   },
   "file_extension": ".py",
   "mimetype": "text/x-python",
   "name": "python",
   "nbconvert_exporter": "python",
   "pygments_lexer": "ipython3",
   "version": "3.9.6"
  }
 },
 "nbformat": 4,
 "nbformat_minor": 2
}
